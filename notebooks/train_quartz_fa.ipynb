{
 "metadata": {
  "language_info": {
   "codemirror_mode": {
    "name": "ipython",
    "version": 3
   },
   "file_extension": ".py",
   "mimetype": "text/x-python",
   "name": "python",
   "nbconvert_exporter": "python",
   "pygments_lexer": "ipython3",
   "version": "3.8.10"
  },
  "orig_nbformat": 4,
  "kernelspec": {
   "name": "python3",
   "display_name": "Python 3.8.10 64-bit"
  },
  "interpreter": {
   "hash": "31f2aee4e71d21fbe5cf8b01ff0e069b9275f58929596ceb00d14d90e3e16cd6"
  }
 },
 "nbformat": 4,
 "nbformat_minor": 2,
 "cells": [
  {
   "cell_type": "code",
   "execution_count": 1,
   "metadata": {},
   "outputs": [],
   "source": [
    "COLAB_GPU = False"
   ]
  },
  {
   "cell_type": "code",
   "execution_count": 2,
   "metadata": {},
   "outputs": [],
   "source": [
    "from pathlib import Path\n",
    "from src.config import get_config\n",
    "\n",
    "PATH = Path.home() / \"Documents/common-voice-fa/fa\"\n",
    "CONFIG = Path(\".\").absolute() / '..' / 'config.yaml'"
   ]
  },
  {
   "cell_type": "code",
   "execution_count": 3,
   "metadata": {},
   "outputs": [],
   "source": [
    "import warnings\n",
    "\n",
    "warnings.filterwarnings(\"ignore\", category=UserWarning) "
   ]
  },
  {
   "cell_type": "code",
   "execution_count": 4,
   "metadata": {},
   "outputs": [],
   "source": [
    "import pandas as pd\n",
    "\n",
    "dataset = pd.read_csv(PATH / \"train.tsv\", delimiter=\"\\t\")"
   ]
  },
  {
   "cell_type": "code",
   "execution_count": 5,
   "metadata": {},
   "outputs": [],
   "source": [
    "from src.utils.text import TextUtility\n",
    "\n",
    "utils = TextUtility(config=get_config(CONFIG))"
   ]
  },
  {
   "cell_type": "code",
   "execution_count": 6,
   "metadata": {},
   "outputs": [
    {
     "output_type": "execute_result",
     "data": {
      "text/plain": [
       "                                           client_id  \\\n",
       "0  23c0ee3fe3ab2f504f1bf0e27e4d10b8a23ae5fe777847...   \n",
       "1  23c0ee3fe3ab2f504f1bf0e27e4d10b8a23ae5fe777847...   \n",
       "2  23c0ee3fe3ab2f504f1bf0e27e4d10b8a23ae5fe777847...   \n",
       "3  2543e37ab831f1c42bcdc2accd4beda86dea3931e95bbc...   \n",
       "4  2543e37ab831f1c42bcdc2accd4beda86dea3931e95bbc...   \n",
       "\n",
       "                           path  \\\n",
       "0  common_voice_fa_19258088.mp3   \n",
       "1  common_voice_fa_19258097.mp3   \n",
       "2  common_voice_fa_19258102.mp3   \n",
       "3  common_voice_fa_20871570.mp3   \n",
       "4  common_voice_fa_20871593.mp3   \n",
       "\n",
       "                                            sentence  up_votes  down_votes  \\\n",
       "0  دعویهای قضایی بیفایده و طولانی، کمپینهای عمومی...         2           0   \n",
       "1                             جاش ، اینا دوستام هستن         2           0   \n",
       "2                              بسه دیگه دیگه حرف نزن         2           0   \n",
       "3                       بعد از ناهار آزاد خواهم بود.         2           0   \n",
       "4                             من رئیس دپارتمان هستم.         2           0   \n",
       "\n",
       "        age  gender  accent locale  segment  \n",
       "0  twenties  female     NaN     fa      NaN  \n",
       "1  twenties  female     NaN     fa      NaN  \n",
       "2  twenties  female     NaN     fa      NaN  \n",
       "3  twenties    male     NaN     fa      NaN  \n",
       "4  twenties    male     NaN     fa      NaN  "
      ],
      "text/html": "<div>\n<style scoped>\n    .dataframe tbody tr th:only-of-type {\n        vertical-align: middle;\n    }\n\n    .dataframe tbody tr th {\n        vertical-align: top;\n    }\n\n    .dataframe thead th {\n        text-align: right;\n    }\n</style>\n<table border=\"1\" class=\"dataframe\">\n  <thead>\n    <tr style=\"text-align: right;\">\n      <th></th>\n      <th>client_id</th>\n      <th>path</th>\n      <th>sentence</th>\n      <th>up_votes</th>\n      <th>down_votes</th>\n      <th>age</th>\n      <th>gender</th>\n      <th>accent</th>\n      <th>locale</th>\n      <th>segment</th>\n    </tr>\n  </thead>\n  <tbody>\n    <tr>\n      <th>0</th>\n      <td>23c0ee3fe3ab2f504f1bf0e27e4d10b8a23ae5fe777847...</td>\n      <td>common_voice_fa_19258088.mp3</td>\n      <td>دعویهای قضایی بیفایده و طولانی، کمپینهای عمومی...</td>\n      <td>2</td>\n      <td>0</td>\n      <td>twenties</td>\n      <td>female</td>\n      <td>NaN</td>\n      <td>fa</td>\n      <td>NaN</td>\n    </tr>\n    <tr>\n      <th>1</th>\n      <td>23c0ee3fe3ab2f504f1bf0e27e4d10b8a23ae5fe777847...</td>\n      <td>common_voice_fa_19258097.mp3</td>\n      <td>جاش ، اینا دوستام هستن</td>\n      <td>2</td>\n      <td>0</td>\n      <td>twenties</td>\n      <td>female</td>\n      <td>NaN</td>\n      <td>fa</td>\n      <td>NaN</td>\n    </tr>\n    <tr>\n      <th>2</th>\n      <td>23c0ee3fe3ab2f504f1bf0e27e4d10b8a23ae5fe777847...</td>\n      <td>common_voice_fa_19258102.mp3</td>\n      <td>بسه دیگه دیگه حرف نزن</td>\n      <td>2</td>\n      <td>0</td>\n      <td>twenties</td>\n      <td>female</td>\n      <td>NaN</td>\n      <td>fa</td>\n      <td>NaN</td>\n    </tr>\n    <tr>\n      <th>3</th>\n      <td>2543e37ab831f1c42bcdc2accd4beda86dea3931e95bbc...</td>\n      <td>common_voice_fa_20871570.mp3</td>\n      <td>بعد از ناهار آزاد خواهم بود.</td>\n      <td>2</td>\n      <td>0</td>\n      <td>twenties</td>\n      <td>male</td>\n      <td>NaN</td>\n      <td>fa</td>\n      <td>NaN</td>\n    </tr>\n    <tr>\n      <th>4</th>\n      <td>2543e37ab831f1c42bcdc2accd4beda86dea3931e95bbc...</td>\n      <td>common_voice_fa_20871593.mp3</td>\n      <td>من رئیس دپارتمان هستم.</td>\n      <td>2</td>\n      <td>0</td>\n      <td>twenties</td>\n      <td>male</td>\n      <td>NaN</td>\n      <td>fa</td>\n      <td>NaN</td>\n    </tr>\n  </tbody>\n</table>\n</div>"
     },
     "metadata": {},
     "execution_count": 6
    }
   ],
   "source": [
    "dataset.head()"
   ]
  },
  {
   "cell_type": "code",
   "execution_count": 7,
   "metadata": {},
   "outputs": [],
   "source": [
    "from src.utils.data.speech import CommonVoice, ctc_collate_function\n",
    "from torch.utils.data import DataLoader"
   ]
  },
  {
   "cell_type": "code",
   "execution_count": 8,
   "metadata": {},
   "outputs": [],
   "source": [
    "commonvoice_dataset = CommonVoice(\n",
    "    path=PATH,\n",
    "    df=dataset,\n",
    "    config=get_config(CONFIG)\n",
    ")\n",
    "\n",
    "dataloader = DataLoader(commonvoice_dataset, batch_size=10, shuffle=True, collate_fn=ctc_collate_function)"
   ]
  },
  {
   "cell_type": "code",
   "execution_count": 9,
   "metadata": {},
   "outputs": [
    {
     "output_type": "stream",
     "name": "stderr",
     "text": [
      "/home/arsham/.local/lib/python3.8/site-packages/pytorch_lightning/metrics/__init__.py:43: LightningDeprecationWarning: `pytorch_lightning.metrics.*` module has been renamed to `torchmetrics.*` and split off to its own package (https://github.com/PyTorchLightning/metrics) since v1.3 and will be removed in v1.5\n  rank_zero_deprecation(\n"
     ]
    }
   ],
   "source": [
    "import torch\n",
    "from torch.nn import Linear, Sequential\n",
    "from src.nn import (\n",
    "    EncDecCTCModel, \n",
    "    DepthwiseSeperableConv1D as Conv\n",
    ")\n",
    "\n",
    "from src.nn.quartz import (\n",
    "    QuartzNet,\n",
    "    BlockConfig,\n",
    "    PreConfig,\n",
    "    PostConfig\n",
    ")"
   ]
  },
  {
   "cell_type": "code",
   "execution_count": 10,
   "metadata": {},
   "outputs": [],
   "source": [
    "encoder = QuartzNet(\n",
    "    pre_config=PreConfig(\n",
    "        input_channels=40,\n",
    "        kernel_size=12,\n",
    "        filter_size=40,\n",
    "        dropout=0.6\n",
    "    ),\n",
    "    block_config=BlockConfig(\n",
    "        input_channels=[40, 64, 128, 256],\n",
    "        filters=[64, 128, 256, 256],\n",
    "        kernels=[3, 3, 3, 3],\n",
    "        drop_rates=[0.6, 0.6, 0.6, 0.6],\n",
    "        repeat=[5, 5, 5, 5]\n",
    "    ),\n",
    "    post_config=PostConfig(\n",
    "        input_channels=[256, 256, 256],\n",
    "        filters=[256, 256, 256],\n",
    "        kernels=[11, 11, 11],\n",
    "        drop_rates=[0.6, 0.6, 0.6, 0.6]\n",
    "    )\n",
    ")"
   ]
  },
  {
   "cell_type": "code",
   "execution_count": 11,
   "metadata": {},
   "outputs": [],
   "source": [
    "model = EncDecCTCModel(\n",
    "    encoder = encoder,\n",
    "    decoder=Linear(256, utils.blank_id+1),\n",
    "    blank_id=utils.blank_id,\n",
    "    optimizer=torch.optim.AdamW\n",
    ")"
   ]
  },
  {
   "cell_type": "code",
   "execution_count": 12,
   "metadata": {},
   "outputs": [
    {
     "output_type": "stream",
     "name": "stderr",
     "text": [
      "\n  | Name    | Type      | Params\n--------------------------------------\n0 | encoder | QuartzNet | 6.7 M \n1 | decoder | Linear    | 11.8 K\n2 | loss    | CTCLoss   | 0     \n--------------------------------------\n6.7 M     Trainable params\n0         Non-trainable params\n6.7 M     Total params\n26.825    Total estimated model params size (MB)\n"
     ]
    },
    {
     "output_type": "execute_result",
     "data": {
      "text/plain": [
       "  | Name    | Type      | Params\n",
       "--------------------------------------\n",
       "0 | encoder | QuartzNet | 6.7 M \n",
       "1 | decoder | Linear    | 11.8 K\n",
       "2 | loss    | CTCLoss   | 0     \n",
       "--------------------------------------\n",
       "6.7 M     Trainable params\n",
       "0         Non-trainable params\n",
       "6.7 M     Total params\n",
       "26.825    Total estimated model params size (MB)"
      ]
     },
     "metadata": {},
     "execution_count": 12
    }
   ],
   "source": [
    "model.summarize()"
   ]
  },
  {
   "cell_type": "code",
   "execution_count": 13,
   "metadata": {},
   "outputs": [
    {
     "output_type": "stream",
     "name": "stderr",
     "text": [
      "GPU available: False, used: False\n",
      "TPU available: False, using: 0 TPU cores\n"
     ]
    }
   ],
   "source": [
    "from pytorch_lightning import Trainer\n",
    "\n",
    "trainer = Trainer(gpus=1 if COLAB_GPU else 0)"
   ]
  },
  {
   "cell_type": "code",
   "execution_count": 28,
   "metadata": {},
   "outputs": [
    {
     "output_type": "stream",
     "name": "stderr",
     "text": [
      "\n",
      "  | Name    | Type      | Params\n",
      "--------------------------------------\n",
      "0 | encoder | QuartzNet | 2.6 M \n",
      "1 | decoder | Linear    | 11.8 K\n",
      "2 | loss    | CTCLoss   | 0     \n",
      "--------------------------------------\n",
      "2.6 M     Trainable params\n",
      "0         Non-trainable params\n",
      "2.6 M     Total params\n",
      "10.590    Total estimated model params size (MB)\n",
      "Epoch 0:   1%|          | 6/760 [01:22<2:52:45, 13.75s/it, loss=8.22, v_num=1]"
     ]
    }
   ],
   "source": [
    "trainer.fit(model, dataloader)"
   ]
  }
 ]
}